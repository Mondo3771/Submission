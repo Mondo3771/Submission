{
 "cells": [
  {
   "cell_type": "code",
   "execution_count": 1,
   "metadata": {},
   "outputs": [
    {
     "ename": "ModuleNotFoundError",
     "evalue": "No module named 'matplotlib'",
     "output_type": "error",
     "traceback": [
      "\u001b[0;31m---------------------------------------------------------------------------\u001b[0m",
      "\u001b[0;31mModuleNotFoundError\u001b[0m                       Traceback (most recent call last)",
      "Cell \u001b[0;32mIn[1], line 1\u001b[0m\n\u001b[0;32m----> 1\u001b[0m \u001b[38;5;28;01mimport\u001b[39;00m \u001b[38;5;21;01mmatplotlib\u001b[39;00m\u001b[38;5;21;01m.\u001b[39;00m\u001b[38;5;21;01mpyplot\u001b[39;00m \u001b[38;5;28;01mas\u001b[39;00m \u001b[38;5;21;01mplt\u001b[39;00m\n\u001b[1;32m      3\u001b[0m \u001b[38;5;66;03m# Number of threads\u001b[39;00m\n\u001b[1;32m      4\u001b[0m threads \u001b[38;5;241m=\u001b[39m [\u001b[38;5;241m2\u001b[39m, \u001b[38;5;241m4\u001b[39m, \u001b[38;5;241m8\u001b[39m, \u001b[38;5;241m16\u001b[39m, \u001b[38;5;241m32\u001b[39m, \u001b[38;5;241m64\u001b[39m]\n",
      "\u001b[0;31mModuleNotFoundError\u001b[0m: No module named 'matplotlib'"
     ]
    }
   ],
   "source": [
    "import matplotlib.pyplot as plt\n",
    "\n",
    "# Number of threads\n",
    "threads = [2, 4, 8, 16, 32, 64]\n",
    "\n",
    "# Corresponding speedup values\n",
    "speedup = [0.316548, 0.496615, 0.669296, 0.775642, 0.781515, 0.777994]\n",
    "\n",
    "# Corresponding time taken values\n",
    "time_taken = [11.382653, 7.219549, 5.419865, 4.649495, 4.599116, 4.619242]\n",
    "\n",
    "fig, axs = plt.subplots(2)\n",
    "fig.suptitle('Bitonic Sort with OpenMP')\n",
    "\n",
    "axs[0].plot(threads, speedup, marker='o')\n",
    "axs[0].set( ylabel='Speedup')\n",
    "\n",
    "axs[1].plot(threads, time_taken, marker='o')\n",
    "axs[1].set(xlabel='Number of Threads', ylabel='Time Taken')\n",
    "\n",
    "plt.show()"
   ]
  }
 ],
 "metadata": {
  "kernelspec": {
   "display_name": "Python 3",
   "language": "python",
   "name": "python3"
  },
  "language_info": {
   "codemirror_mode": {
    "name": "ipython",
    "version": 3
   },
   "file_extension": ".py",
   "mimetype": "text/x-python",
   "name": "python",
   "nbconvert_exporter": "python",
   "pygments_lexer": "ipython3",
   "version": "3.10.6"
  }
 },
 "nbformat": 4,
 "nbformat_minor": 2
}
